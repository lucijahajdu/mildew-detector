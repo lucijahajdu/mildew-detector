{
  "cells": [
    {
      "cell_type": "markdown",
      "metadata": {
        "id": "0aStgWSO0E0E"
      },
      "source": [
        "# **Data Collection**"
      ]
    },
    {
      "cell_type": "markdown",
      "metadata": {
        "id": "1eLEkw5O0ECa"
      },
      "source": [
        "## Objectives\n",
        "\n",
        "* Fetch data from Kaggle and prepare it for further processes.\n",
        "\n",
        "## Inputs\n",
        "\n",
        "*   Kaggle JSON file - the authentication token. \n",
        "\n",
        "## Outputs\n",
        "\n",
        "* Generate Dataset: inputs/datasets/cherry_dataset\n",
        "\n",
        "## Additional Comments | Insights | Conclusions\n",
        "\n",
        "\n",
        "* No additional comments.\n"
      ]
    },
    {
      "cell_type": "markdown",
      "metadata": {
        "id": "9uWZXH9LwoQg"
      },
      "source": [
        "---"
      ]
    },
    {
      "cell_type": "markdown",
      "metadata": {
        "id": "HpTc5-PJVH_i"
      },
      "source": [
        "# Import packages"
      ]
    },
    {
      "cell_type": "code",
      "execution_count": 1,
      "metadata": {},
      "outputs": [
        {
          "name": "stdout",
          "output_type": "stream",
          "text": [
            "Requirement already satisfied: numpy==1.19.2 in /workspace/.pip-modules/lib/python3.8/site-packages (from -r /workspace/mildew-detector/requirements.txt (line 1)) (1.19.2)\n",
            "Requirement already satisfied: pandas==1.1.2 in /workspace/.pip-modules/lib/python3.8/site-packages (from -r /workspace/mildew-detector/requirements.txt (line 2)) (1.1.2)\n",
            "Requirement already satisfied: matplotlib==3.3.1 in /workspace/.pip-modules/lib/python3.8/site-packages (from -r /workspace/mildew-detector/requirements.txt (line 3)) (3.3.1)\n",
            "Requirement already satisfied: seaborn==0.11.0 in /workspace/.pip-modules/lib/python3.8/site-packages (from -r /workspace/mildew-detector/requirements.txt (line 4)) (0.11.0)\n",
            "Requirement already satisfied: plotly==4.12.0 in /workspace/.pip-modules/lib/python3.8/site-packages (from -r /workspace/mildew-detector/requirements.txt (line 5)) (4.12.0)\n",
            "Requirement already satisfied: streamlit==0.85.0 in /workspace/.pip-modules/lib/python3.8/site-packages (from -r /workspace/mildew-detector/requirements.txt (line 7)) (0.85.0)\n",
            "Requirement already satisfied: scikit-learn==0.24.2 in /workspace/.pip-modules/lib/python3.8/site-packages (from -r /workspace/mildew-detector/requirements.txt (line 9)) (0.24.2)\n",
            "Requirement already satisfied: tensorflow-cpu==2.6.0 in /workspace/.pip-modules/lib/python3.8/site-packages (from -r /workspace/mildew-detector/requirements.txt (line 10)) (2.6.0)\n",
            "Requirement already satisfied: keras==2.6.0 in /workspace/.pip-modules/lib/python3.8/site-packages (from -r /workspace/mildew-detector/requirements.txt (line 11)) (2.6.0)\n",
            "Requirement already satisfied: protobuf==3.20 in /workspace/.pip-modules/lib/python3.8/site-packages (from -r /workspace/mildew-detector/requirements.txt (line 12)) (3.20.0)\n",
            "Requirement already satisfied: altair<5 in /workspace/.pip-modules/lib/python3.8/site-packages (from -r /workspace/mildew-detector/requirements.txt (line 13)) (4.2.2)\n",
            "Requirement already satisfied: python-dateutil>=2.7.3 in /home/gitpod/.pyenv/versions/3.8.18/lib/python3.8/site-packages (from pandas==1.1.2->-r /workspace/mildew-detector/requirements.txt (line 2)) (2.9.0.post0)\n",
            "Requirement already satisfied: pytz>=2017.2 in /home/gitpod/.pyenv/versions/3.8.18/lib/python3.8/site-packages (from pandas==1.1.2->-r /workspace/mildew-detector/requirements.txt (line 2)) (2024.1)\n",
            "Requirement already satisfied: certifi>=2020.06.20 in /home/gitpod/.pyenv/versions/3.8.18/lib/python3.8/site-packages (from matplotlib==3.3.1->-r /workspace/mildew-detector/requirements.txt (line 3)) (2024.2.2)\n",
            "Requirement already satisfied: cycler>=0.10 in /workspace/.pip-modules/lib/python3.8/site-packages (from matplotlib==3.3.1->-r /workspace/mildew-detector/requirements.txt (line 3)) (0.12.1)\n",
            "Requirement already satisfied: kiwisolver>=1.0.1 in /workspace/.pip-modules/lib/python3.8/site-packages (from matplotlib==3.3.1->-r /workspace/mildew-detector/requirements.txt (line 3)) (1.4.5)\n",
            "Requirement already satisfied: pillow>=6.2.0 in /workspace/.pip-modules/lib/python3.8/site-packages (from matplotlib==3.3.1->-r /workspace/mildew-detector/requirements.txt (line 3)) (10.3.0)\n",
            "Requirement already satisfied: pyparsing!=2.0.4,!=2.1.2,!=2.1.6,>=2.0.3 in /workspace/.pip-modules/lib/python3.8/site-packages (from matplotlib==3.3.1->-r /workspace/mildew-detector/requirements.txt (line 3)) (3.1.2)\n",
            "Requirement already satisfied: scipy>=1.0 in /workspace/.pip-modules/lib/python3.8/site-packages (from seaborn==0.11.0->-r /workspace/mildew-detector/requirements.txt (line 4)) (1.9.3)\n",
            "Requirement already satisfied: retrying>=1.3.3 in /workspace/.pip-modules/lib/python3.8/site-packages (from plotly==4.12.0->-r /workspace/mildew-detector/requirements.txt (line 5)) (1.3.4)\n",
            "Requirement already satisfied: six in /workspace/.pip-modules/lib/python3.8/site-packages (from plotly==4.12.0->-r /workspace/mildew-detector/requirements.txt (line 5)) (1.15.0)\n",
            "Requirement already satisfied: astor in /workspace/.pip-modules/lib/python3.8/site-packages (from streamlit==0.85.0->-r /workspace/mildew-detector/requirements.txt (line 7)) (0.8.1)\n",
            "Requirement already satisfied: attrs in /home/gitpod/.pyenv/versions/3.8.18/lib/python3.8/site-packages (from streamlit==0.85.0->-r /workspace/mildew-detector/requirements.txt (line 7)) (23.2.0)\n",
            "Requirement already satisfied: base58 in /workspace/.pip-modules/lib/python3.8/site-packages (from streamlit==0.85.0->-r /workspace/mildew-detector/requirements.txt (line 7)) (2.1.1)\n",
            "Requirement already satisfied: blinker in /workspace/.pip-modules/lib/python3.8/site-packages (from streamlit==0.85.0->-r /workspace/mildew-detector/requirements.txt (line 7)) (1.8.2)\n",
            "Requirement already satisfied: cachetools>=4.0 in /workspace/.pip-modules/lib/python3.8/site-packages (from streamlit==0.85.0->-r /workspace/mildew-detector/requirements.txt (line 7)) (5.3.3)\n",
            "Requirement already satisfied: click<8.0,>=7.0 in /workspace/.pip-modules/lib/python3.8/site-packages (from streamlit==0.85.0->-r /workspace/mildew-detector/requirements.txt (line 7)) (7.1.2)\n",
            "Requirement already satisfied: packaging in /home/gitpod/.pyenv/versions/3.8.18/lib/python3.8/site-packages (from streamlit==0.85.0->-r /workspace/mildew-detector/requirements.txt (line 7)) (24.0)\n",
            "Requirement already satisfied: pyarrow in /workspace/.pip-modules/lib/python3.8/site-packages (from streamlit==0.85.0->-r /workspace/mildew-detector/requirements.txt (line 7)) (16.1.0)\n",
            "Requirement already satisfied: pydeck>=0.1.dev5 in /workspace/.pip-modules/lib/python3.8/site-packages (from streamlit==0.85.0->-r /workspace/mildew-detector/requirements.txt (line 7)) (0.9.1)\n",
            "Requirement already satisfied: requests in /home/gitpod/.pyenv/versions/3.8.18/lib/python3.8/site-packages (from streamlit==0.85.0->-r /workspace/mildew-detector/requirements.txt (line 7)) (2.32.3)\n",
            "Requirement already satisfied: toml in /workspace/.pip-modules/lib/python3.8/site-packages (from streamlit==0.85.0->-r /workspace/mildew-detector/requirements.txt (line 7)) (0.10.2)\n",
            "Requirement already satisfied: tornado>=5.0 in /home/gitpod/.pyenv/versions/3.8.18/lib/python3.8/site-packages (from streamlit==0.85.0->-r /workspace/mildew-detector/requirements.txt (line 7)) (6.4)\n",
            "Requirement already satisfied: tzlocal in /workspace/.pip-modules/lib/python3.8/site-packages (from streamlit==0.85.0->-r /workspace/mildew-detector/requirements.txt (line 7)) (5.2)\n",
            "Requirement already satisfied: validators in /workspace/.pip-modules/lib/python3.8/site-packages (from streamlit==0.85.0->-r /workspace/mildew-detector/requirements.txt (line 7)) (0.28.3)\n",
            "Requirement already satisfied: gitpython in /workspace/.pip-modules/lib/python3.8/site-packages (from streamlit==0.85.0->-r /workspace/mildew-detector/requirements.txt (line 7)) (3.1.43)\n",
            "Requirement already satisfied: watchdog in /workspace/.pip-modules/lib/python3.8/site-packages (from streamlit==0.85.0->-r /workspace/mildew-detector/requirements.txt (line 7)) (4.0.1)\n",
            "Requirement already satisfied: joblib>=0.11 in /workspace/.pip-modules/lib/python3.8/site-packages (from scikit-learn==0.24.2->-r /workspace/mildew-detector/requirements.txt (line 9)) (1.4.2)\n",
            "Requirement already satisfied: threadpoolctl>=2.0.0 in /workspace/.pip-modules/lib/python3.8/site-packages (from scikit-learn==0.24.2->-r /workspace/mildew-detector/requirements.txt (line 9)) (3.5.0)\n",
            "Requirement already satisfied: absl-py~=0.10 in /workspace/.pip-modules/lib/python3.8/site-packages (from tensorflow-cpu==2.6.0->-r /workspace/mildew-detector/requirements.txt (line 10)) (0.15.0)\n",
            "Requirement already satisfied: astunparse~=1.6.3 in /workspace/.pip-modules/lib/python3.8/site-packages (from tensorflow-cpu==2.6.0->-r /workspace/mildew-detector/requirements.txt (line 10)) (1.6.3)\n",
            "Requirement already satisfied: clang~=5.0 in /workspace/.pip-modules/lib/python3.8/site-packages (from tensorflow-cpu==2.6.0->-r /workspace/mildew-detector/requirements.txt (line 10)) (5.0)\n",
            "Requirement already satisfied: flatbuffers~=1.12.0 in /workspace/.pip-modules/lib/python3.8/site-packages (from tensorflow-cpu==2.6.0->-r /workspace/mildew-detector/requirements.txt (line 10)) (1.12)\n",
            "Requirement already satisfied: google-pasta~=0.2 in /workspace/.pip-modules/lib/python3.8/site-packages (from tensorflow-cpu==2.6.0->-r /workspace/mildew-detector/requirements.txt (line 10)) (0.2.0)\n",
            "Requirement already satisfied: h5py~=3.1.0 in /workspace/.pip-modules/lib/python3.8/site-packages (from tensorflow-cpu==2.6.0->-r /workspace/mildew-detector/requirements.txt (line 10)) (3.1.0)\n",
            "Requirement already satisfied: keras-preprocessing~=1.1.2 in /workspace/.pip-modules/lib/python3.8/site-packages (from tensorflow-cpu==2.6.0->-r /workspace/mildew-detector/requirements.txt (line 10)) (1.1.2)\n",
            "Requirement already satisfied: opt-einsum~=3.3.0 in /workspace/.pip-modules/lib/python3.8/site-packages (from tensorflow-cpu==2.6.0->-r /workspace/mildew-detector/requirements.txt (line 10)) (3.3.0)\n",
            "Requirement already satisfied: termcolor~=1.1.0 in /workspace/.pip-modules/lib/python3.8/site-packages (from tensorflow-cpu==2.6.0->-r /workspace/mildew-detector/requirements.txt (line 10)) (1.1.0)\n",
            "Requirement already satisfied: typing-extensions~=3.7.4 in /workspace/.pip-modules/lib/python3.8/site-packages (from tensorflow-cpu==2.6.0->-r /workspace/mildew-detector/requirements.txt (line 10)) (3.7.4.3)\n",
            "Requirement already satisfied: wheel~=0.35 in /home/gitpod/.pyenv/versions/3.8.18/lib/python3.8/site-packages (from tensorflow-cpu==2.6.0->-r /workspace/mildew-detector/requirements.txt (line 10)) (0.43.0)\n",
            "Requirement already satisfied: wrapt~=1.12.1 in /workspace/.pip-modules/lib/python3.8/site-packages (from tensorflow-cpu==2.6.0->-r /workspace/mildew-detector/requirements.txt (line 10)) (1.12.1)\n",
            "Requirement already satisfied: gast==0.4.0 in /workspace/.pip-modules/lib/python3.8/site-packages (from tensorflow-cpu==2.6.0->-r /workspace/mildew-detector/requirements.txt (line 10)) (0.4.0)\n",
            "Requirement already satisfied: tensorboard~=2.6 in /workspace/.pip-modules/lib/python3.8/site-packages (from tensorflow-cpu==2.6.0->-r /workspace/mildew-detector/requirements.txt (line 10)) (2.14.0)\n",
            "Requirement already satisfied: tensorflow-estimator~=2.6 in /workspace/.pip-modules/lib/python3.8/site-packages (from tensorflow-cpu==2.6.0->-r /workspace/mildew-detector/requirements.txt (line 10)) (2.15.0)\n",
            "Requirement already satisfied: grpcio<2.0,>=1.37.0 in /workspace/.pip-modules/lib/python3.8/site-packages (from tensorflow-cpu==2.6.0->-r /workspace/mildew-detector/requirements.txt (line 10)) (1.64.0)\n",
            "Requirement already satisfied: entrypoints in /workspace/.pip-modules/lib/python3.8/site-packages (from altair<5->-r /workspace/mildew-detector/requirements.txt (line 13)) (0.4)\n",
            "Requirement already satisfied: jinja2 in /home/gitpod/.pyenv/versions/3.8.18/lib/python3.8/site-packages (from altair<5->-r /workspace/mildew-detector/requirements.txt (line 13)) (3.1.4)\n",
            "Requirement already satisfied: jsonschema>=3.0 in /home/gitpod/.pyenv/versions/3.8.18/lib/python3.8/site-packages (from altair<5->-r /workspace/mildew-detector/requirements.txt (line 13)) (4.22.0)\n",
            "Requirement already satisfied: toolz in /workspace/.pip-modules/lib/python3.8/site-packages (from altair<5->-r /workspace/mildew-detector/requirements.txt (line 13)) (0.12.1)\n",
            "Requirement already satisfied: importlib-resources>=1.4.0 in /home/gitpod/.pyenv/versions/3.8.18/lib/python3.8/site-packages (from jsonschema>=3.0->altair<5->-r /workspace/mildew-detector/requirements.txt (line 13)) (6.4.0)\n",
            "Requirement already satisfied: jsonschema-specifications>=2023.03.6 in /home/gitpod/.pyenv/versions/3.8.18/lib/python3.8/site-packages (from jsonschema>=3.0->altair<5->-r /workspace/mildew-detector/requirements.txt (line 13)) (2023.12.1)\n",
            "Requirement already satisfied: pkgutil-resolve-name>=1.3.10 in /home/gitpod/.pyenv/versions/3.8.18/lib/python3.8/site-packages (from jsonschema>=3.0->altair<5->-r /workspace/mildew-detector/requirements.txt (line 13)) (1.3.10)\n",
            "Requirement already satisfied: referencing>=0.28.4 in /home/gitpod/.pyenv/versions/3.8.18/lib/python3.8/site-packages (from jsonschema>=3.0->altair<5->-r /workspace/mildew-detector/requirements.txt (line 13)) (0.35.1)\n",
            "Requirement already satisfied: rpds-py>=0.7.1 in /home/gitpod/.pyenv/versions/3.8.18/lib/python3.8/site-packages (from jsonschema>=3.0->altair<5->-r /workspace/mildew-detector/requirements.txt (line 13)) (0.18.1)\n",
            "Requirement already satisfied: MarkupSafe>=2.0 in /home/gitpod/.pyenv/versions/3.8.18/lib/python3.8/site-packages (from jinja2->altair<5->-r /workspace/mildew-detector/requirements.txt (line 13)) (2.1.5)\n",
            "Requirement already satisfied: google-auth<3,>=1.6.3 in /workspace/.pip-modules/lib/python3.8/site-packages (from tensorboard~=2.6->tensorflow-cpu==2.6.0->-r /workspace/mildew-detector/requirements.txt (line 10)) (2.29.0)\n",
            "Requirement already satisfied: google-auth-oauthlib<1.1,>=0.5 in /workspace/.pip-modules/lib/python3.8/site-packages (from tensorboard~=2.6->tensorflow-cpu==2.6.0->-r /workspace/mildew-detector/requirements.txt (line 10)) (1.0.0)\n",
            "Requirement already satisfied: markdown>=2.6.8 in /workspace/.pip-modules/lib/python3.8/site-packages (from tensorboard~=2.6->tensorflow-cpu==2.6.0->-r /workspace/mildew-detector/requirements.txt (line 10)) (3.6)\n",
            "Requirement already satisfied: setuptools>=41.0.0 in /home/gitpod/.pyenv/versions/3.8.18/lib/python3.8/site-packages (from tensorboard~=2.6->tensorflow-cpu==2.6.0->-r /workspace/mildew-detector/requirements.txt (line 10)) (70.0.0)\n",
            "Requirement already satisfied: tensorboard-data-server<0.8.0,>=0.7.0 in /workspace/.pip-modules/lib/python3.8/site-packages (from tensorboard~=2.6->tensorflow-cpu==2.6.0->-r /workspace/mildew-detector/requirements.txt (line 10)) (0.7.2)\n",
            "Requirement already satisfied: werkzeug>=1.0.1 in /workspace/.pip-modules/lib/python3.8/site-packages (from tensorboard~=2.6->tensorflow-cpu==2.6.0->-r /workspace/mildew-detector/requirements.txt (line 10)) (3.0.3)\n",
            "Requirement already satisfied: charset-normalizer<4,>=2 in /home/gitpod/.pyenv/versions/3.8.18/lib/python3.8/site-packages (from requests->streamlit==0.85.0->-r /workspace/mildew-detector/requirements.txt (line 7)) (3.3.2)\n",
            "Requirement already satisfied: idna<4,>=2.5 in /home/gitpod/.pyenv/versions/3.8.18/lib/python3.8/site-packages (from requests->streamlit==0.85.0->-r /workspace/mildew-detector/requirements.txt (line 7)) (3.7)\n",
            "Requirement already satisfied: urllib3<3,>=1.21.1 in /home/gitpod/.pyenv/versions/3.8.18/lib/python3.8/site-packages (from requests->streamlit==0.85.0->-r /workspace/mildew-detector/requirements.txt (line 7)) (2.2.1)\n",
            "Requirement already satisfied: gitdb<5,>=4.0.1 in /workspace/.pip-modules/lib/python3.8/site-packages (from gitpython->streamlit==0.85.0->-r /workspace/mildew-detector/requirements.txt (line 7)) (4.0.11)\n",
            "Requirement already satisfied: backports.zoneinfo in /workspace/.pip-modules/lib/python3.8/site-packages (from tzlocal->streamlit==0.85.0->-r /workspace/mildew-detector/requirements.txt (line 7)) (0.2.1)\n",
            "Requirement already satisfied: smmap<6,>=3.0.1 in /workspace/.pip-modules/lib/python3.8/site-packages (from gitdb<5,>=4.0.1->gitpython->streamlit==0.85.0->-r /workspace/mildew-detector/requirements.txt (line 7)) (5.0.1)\n",
            "Requirement already satisfied: pyasn1-modules>=0.2.1 in /workspace/.pip-modules/lib/python3.8/site-packages (from google-auth<3,>=1.6.3->tensorboard~=2.6->tensorflow-cpu==2.6.0->-r /workspace/mildew-detector/requirements.txt (line 10)) (0.4.0)\n",
            "Requirement already satisfied: rsa<5,>=3.1.4 in /workspace/.pip-modules/lib/python3.8/site-packages (from google-auth<3,>=1.6.3->tensorboard~=2.6->tensorflow-cpu==2.6.0->-r /workspace/mildew-detector/requirements.txt (line 10)) (4.9)\n",
            "Requirement already satisfied: requests-oauthlib>=0.7.0 in /workspace/.pip-modules/lib/python3.8/site-packages (from google-auth-oauthlib<1.1,>=0.5->tensorboard~=2.6->tensorflow-cpu==2.6.0->-r /workspace/mildew-detector/requirements.txt (line 10)) (2.0.0)\n",
            "Requirement already satisfied: zipp>=3.1.0 in /home/gitpod/.pyenv/versions/3.8.18/lib/python3.8/site-packages (from importlib-resources>=1.4.0->jsonschema>=3.0->altair<5->-r /workspace/mildew-detector/requirements.txt (line 13)) (3.19.0)\n",
            "Requirement already satisfied: importlib-metadata>=4.4 in /home/gitpod/.pyenv/versions/3.8.18/lib/python3.8/site-packages (from markdown>=2.6.8->tensorboard~=2.6->tensorflow-cpu==2.6.0->-r /workspace/mildew-detector/requirements.txt (line 10)) (7.1.0)\n",
            "Requirement already satisfied: pyasn1<0.7.0,>=0.4.6 in /workspace/.pip-modules/lib/python3.8/site-packages (from pyasn1-modules>=0.2.1->google-auth<3,>=1.6.3->tensorboard~=2.6->tensorflow-cpu==2.6.0->-r /workspace/mildew-detector/requirements.txt (line 10)) (0.6.0)\n",
            "Requirement already satisfied: oauthlib>=3.0.0 in /workspace/.pip-modules/lib/python3.8/site-packages (from requests-oauthlib>=0.7.0->google-auth-oauthlib<1.1,>=0.5->tensorboard~=2.6->tensorflow-cpu==2.6.0->-r /workspace/mildew-detector/requirements.txt (line 10)) (3.2.2)\n",
            "Note: you may need to restart the kernel to use updated packages.\n"
          ]
        }
      ],
      "source": [
        "%pip install -r /workspace/mildew-detector/requirements.txt"
      ]
    },
    {
      "cell_type": "code",
      "execution_count": 2,
      "metadata": {
        "id": "7AR_SEgkmYDC"
      },
      "outputs": [],
      "source": [
        "import numpy\n",
        "import os"
      ]
    },
    {
      "cell_type": "markdown",
      "metadata": {
        "id": "XMkFbSwxmYDC"
      },
      "source": [
        "## Change the working directory"
      ]
    },
    {
      "cell_type": "code",
      "execution_count": 3,
      "metadata": {
        "id": "8SooBUDWVIQK"
      },
      "outputs": [
        {
          "data": {
            "text/plain": [
              "'/workspace/mildew-detector/jupyter_notebooks'"
            ]
          },
          "execution_count": 3,
          "metadata": {},
          "output_type": "execute_result"
        }
      ],
      "source": [
        "current_dir = os.getcwd()\n",
        "current_dir"
      ]
    },
    {
      "cell_type": "code",
      "execution_count": 4,
      "metadata": {
        "id": "EQ7j8jHhmYDD"
      },
      "outputs": [
        {
          "name": "stdout",
          "output_type": "stream",
          "text": [
            "You set a new current directory\n"
          ]
        }
      ],
      "source": [
        "os.chdir(os.path.dirname(current_dir))\n",
        "print(\"You set a new current directory\")"
      ]
    },
    {
      "cell_type": "code",
      "execution_count": 5,
      "metadata": {
        "id": "b107Zs3TmYDD"
      },
      "outputs": [
        {
          "data": {
            "text/plain": [
              "'/workspace/mildew-detector'"
            ]
          },
          "execution_count": 5,
          "metadata": {},
          "output_type": "execute_result"
        }
      ],
      "source": [
        "\n",
        "current_dir = os.getcwd()\n",
        "current_dir"
      ]
    },
    {
      "cell_type": "markdown",
      "metadata": {
        "id": "CoVu2lp8vZi1"
      },
      "source": [
        "# Install Kaggle"
      ]
    },
    {
      "cell_type": "code",
      "execution_count": 6,
      "metadata": {
        "id": "zhrMBzbVvZi2"
      },
      "outputs": [
        {
          "name": "stdout",
          "output_type": "stream",
          "text": [
            "Collecting kaggle==1.5.12\n",
            "  Downloading kaggle-1.5.12.tar.gz (58 kB)\n",
            "\u001b[2K     \u001b[90m━━━━━━━━━━━━━━━━━━━━━━━━━━━━━━━━━━━━━━━━\u001b[0m \u001b[32m59.0/59.0 kB\u001b[0m \u001b[31m4.7 MB/s\u001b[0m eta \u001b[36m0:00:00\u001b[0m\n",
            "\u001b[?25h  Preparing metadata (setup.py) ... \u001b[?25ldone\n",
            "\u001b[?25hRequirement already satisfied: six>=1.10 in /workspace/.pip-modules/lib/python3.8/site-packages (from kaggle==1.5.12) (1.15.0)\n",
            "Requirement already satisfied: certifi in /home/gitpod/.pyenv/versions/3.8.18/lib/python3.8/site-packages (from kaggle==1.5.12) (2024.2.2)\n",
            "Requirement already satisfied: python-dateutil in /home/gitpod/.pyenv/versions/3.8.18/lib/python3.8/site-packages (from kaggle==1.5.12) (2.9.0.post0)\n",
            "Requirement already satisfied: requests in /home/gitpod/.pyenv/versions/3.8.18/lib/python3.8/site-packages (from kaggle==1.5.12) (2.32.3)\n",
            "Collecting tqdm (from kaggle==1.5.12)\n",
            "  Downloading tqdm-4.66.4-py3-none-any.whl.metadata (57 kB)\n",
            "\u001b[2K     \u001b[90m━━━━━━━━━━━━━━━━━━━━━━━━━━━━━━━━━━━━━━━━\u001b[0m \u001b[32m57.6/57.6 kB\u001b[0m \u001b[31m7.5 MB/s\u001b[0m eta \u001b[36m0:00:00\u001b[0m\n",
            "\u001b[?25hCollecting python-slugify (from kaggle==1.5.12)\n",
            "  Downloading python_slugify-8.0.4-py2.py3-none-any.whl.metadata (8.5 kB)\n",
            "Requirement already satisfied: urllib3 in /home/gitpod/.pyenv/versions/3.8.18/lib/python3.8/site-packages (from kaggle==1.5.12) (2.2.1)\n",
            "Collecting text-unidecode>=1.3 (from python-slugify->kaggle==1.5.12)\n",
            "  Downloading text_unidecode-1.3-py2.py3-none-any.whl.metadata (2.4 kB)\n",
            "Requirement already satisfied: charset-normalizer<4,>=2 in /home/gitpod/.pyenv/versions/3.8.18/lib/python3.8/site-packages (from requests->kaggle==1.5.12) (3.3.2)\n",
            "Requirement already satisfied: idna<4,>=2.5 in /home/gitpod/.pyenv/versions/3.8.18/lib/python3.8/site-packages (from requests->kaggle==1.5.12) (3.7)\n",
            "Downloading python_slugify-8.0.4-py2.py3-none-any.whl (10 kB)\n",
            "Downloading tqdm-4.66.4-py3-none-any.whl (78 kB)\n",
            "\u001b[2K   \u001b[90m━━━━━━━━━━━━━━━━━━━━━━━━━━━━━━━━━━━━━━━━\u001b[0m \u001b[32m78.3/78.3 kB\u001b[0m \u001b[31m21.1 MB/s\u001b[0m eta \u001b[36m0:00:00\u001b[0m\n",
            "\u001b[?25hDownloading text_unidecode-1.3-py2.py3-none-any.whl (78 kB)\n",
            "\u001b[2K   \u001b[90m━━━━━━━━━━━━━━━━━━━━━━━━━━━━━━━━━━━━━━━━\u001b[0m \u001b[32m78.2/78.2 kB\u001b[0m \u001b[31m22.6 MB/s\u001b[0m eta \u001b[36m0:00:00\u001b[0m\n",
            "\u001b[?25hBuilding wheels for collected packages: kaggle\n",
            "  Building wheel for kaggle (setup.py) ... \u001b[?25ldone\n",
            "\u001b[?25h  Created wheel for kaggle: filename=kaggle-1.5.12-py3-none-any.whl size=73027 sha256=7960ae7427efa633dba9c1ab88b865d5b025768b13f02555f87cf00137a1cd24\n",
            "  Stored in directory: /home/gitpod/.cache/pip/wheels/29/da/11/144cc25aebdaeb4931b231e25fd34b394e6a5725cbb2f50106\n",
            "Successfully built kaggle\n",
            "Installing collected packages: text-unidecode, tqdm, python-slugify, kaggle\n",
            "Successfully installed kaggle-1.5.12 python-slugify-8.0.4 text-unidecode-1.3 tqdm-4.66.4\n",
            "Note: you may need to restart the kernel to use updated packages.\n"
          ]
        }
      ],
      "source": [
        "# install kaggle package\n",
        "%pip install kaggle==1.5.12"
      ]
    },
    {
      "cell_type": "markdown",
      "metadata": {
        "id": "qRwFQLlmwrl9"
      },
      "source": [
        "---"
      ]
    },
    {
      "cell_type": "markdown",
      "metadata": {
        "id": "x9BaDpLjM-rP"
      },
      "source": [
        "Run the cell below **to change the Kaggle configuration directory to the current working directory and set permissions for the Kaggle authentication JSON**."
      ]
    },
    {
      "cell_type": "code",
      "execution_count": 7,
      "metadata": {
        "id": "LVlh18YgbyEg"
      },
      "outputs": [],
      "source": [
        "os.environ['KAGGLE_CONFIG_DIR'] = os.getcwd()\n",
        "! chmod 600 kaggle.json"
      ]
    },
    {
      "cell_type": "markdown",
      "metadata": {
        "id": "ySAC0yIkNJm4"
      },
      "source": [
        "* Get the dataset path from the [Kaggle URL](https://www.kaggle.com/datasets/codeinstitute/cherry-leaves). When you are viewing the dataset at Kaggle, check what is after https://www.kaggle.com/ (in some cases kaggle.com/datasets). You should copy that at KaggleDatasetPath.\n",
        "* Set your destination folder."
      ]
    },
    {
      "cell_type": "markdown",
      "metadata": {
        "id": "-jg2mrz4aRQf"
      },
      "source": [
        "Set the Kaggle Dataset and Download it."
      ]
    },
    {
      "cell_type": "code",
      "execution_count": 8,
      "metadata": {
        "id": "n3u49Wn7byHA"
      },
      "outputs": [
        {
          "name": "stdout",
          "output_type": "stream",
          "text": [
            "Downloading cherry-leaves.zip to inputs/cherry_dataset\n",
            "100%|█████████████████████████████████████▉| 55.0M/55.0M [00:02<00:00, 24.5MB/s]\n",
            "100%|██████████████████████████████████████| 55.0M/55.0M [00:02<00:00, 20.9MB/s]\n"
          ]
        }
      ],
      "source": [
        "KaggleDatasetPath = \"codeinstitute/cherry-leaves\"\n",
        "DestinationFolder = \"inputs/cherry_dataset\"   \n",
        "! kaggle datasets download -d {KaggleDatasetPath} -p {DestinationFolder}"
      ]
    },
    {
      "cell_type": "markdown",
      "metadata": {
        "id": "onuX0tVRNkB8"
      },
      "source": [
        "Unzip the downloaded file, and delete the zip file."
      ]
    },
    {
      "cell_type": "code",
      "execution_count": 9,
      "metadata": {
        "id": "4sJ4a1-RvZi9"
      },
      "outputs": [],
      "source": [
        "import zipfile\n",
        "with zipfile.ZipFile(DestinationFolder + '/cherry-leaves.zip', 'r') as zip_ref:\n",
        "    zip_ref.extractall(DestinationFolder)\n",
        "\n",
        "os.remove(DestinationFolder + '/cherry-leaves.zip')"
      ]
    },
    {
      "cell_type": "markdown",
      "metadata": {
        "id": "b5FvU5UvvZi9"
      },
      "source": [
        "---"
      ]
    },
    {
      "cell_type": "markdown",
      "metadata": {
        "id": "xKUJfg59l1TY"
      },
      "source": [
        "# Data Preparation"
      ]
    },
    {
      "cell_type": "markdown",
      "metadata": {
        "id": "wh5i_Q78vZi-"
      },
      "source": [
        "---"
      ]
    },
    {
      "cell_type": "markdown",
      "metadata": {
        "id": "plF6DoUSvZi-"
      },
      "source": [
        "## Data cleaning"
      ]
    },
    {
      "cell_type": "markdown",
      "metadata": {
        "id": "jWTIucPTvZi-"
      },
      "source": [
        "### Check and remove non-image files"
      ]
    },
    {
      "cell_type": "code",
      "execution_count": 26,
      "metadata": {
        "id": "tyxIhl1PvZi-"
      },
      "outputs": [],
      "source": [
        "def remove_non_image_file(my_data_dir):\n",
        "    image_extension = ('.png', '.jpg', '.jpeg')\n",
        "    folders = os.listdir(my_data_dir)\n",
        "    for folder in folders:\n",
        "        files = os.listdir(my_data_dir + '/' + folder)\n",
        "        # print(files)\n",
        "        i = []\n",
        "        j = []\n",
        "        for given_file in files:\n",
        "            if not given_file.lower().endswith(image_extension):\n",
        "                file_location = my_data_dir + '/' + folder + '/' + given_file\n",
        "                os.remove(file_location)  # remove non image file\n",
        "                i.append(1)\n",
        "            else:\n",
        "                j.append(1)\n",
        "                pass\n",
        "        print(f\"Folder: {folder} - has image file\", len(j))\n",
        "        print(f\"Folder: {folder} - has non-image file\", len(i))\n"
      ]
    },
    {
      "cell_type": "code",
      "execution_count": 27,
      "metadata": {
        "id": "r7GhG4y2vZi_"
      },
      "outputs": [
        {
          "name": "stdout",
          "output_type": "stream",
          "text": [
            "Folder: healthy - has image file 2104\n",
            "Folder: healthy - has non-image file 0\n",
            "Folder: powdery_mildew - has image file 2104\n",
            "Folder: powdery_mildew - has non-image file 0\n"
          ]
        }
      ],
      "source": [
        "remove_non_image_file(my_data_dir='inputs/cherry_dataset/cherry-leaves')"
      ]
    },
    {
      "cell_type": "markdown",
      "metadata": {
        "id": "Zo5HyvEZgUZC"
      },
      "source": [
        "## Split train validation test set"
      ]
    },
    {
      "cell_type": "code",
      "execution_count": 15,
      "metadata": {
        "id": "Qoz1ZU_EgKDu"
      },
      "outputs": [],
      "source": [
        "import os\n",
        "import shutil\n",
        "import random\n",
        "import joblib\n",
        "\n",
        "\n",
        "def split_train_validation_test_images(my_data_dir, train_set_ratio, validation_set_ratio, test_set_ratio):\n",
        "\n",
        "    if train_set_ratio + validation_set_ratio + test_set_ratio != 1.0:\n",
        "        print(\"train_set_ratio + validation_set_ratio + test_set_ratio should sum to 1.0\")\n",
        "        return\n",
        "\n",
        "    # gets classes labels\n",
        "    labels = os.listdir(my_data_dir)  # it should get only the folder name\n",
        "    if 'test' in labels:\n",
        "        pass\n",
        "    else:\n",
        "        # create train, test folders with classes labels sub-folder\n",
        "        for folder in ['train', 'validation', 'test']:\n",
        "            for label in labels:\n",
        "                os.makedirs(name=my_data_dir + '/' + folder + '/' + label)\n",
        "\n",
        "        for label in labels:\n",
        "\n",
        "            files = os.listdir(my_data_dir + '/' + label)\n",
        "            random.shuffle(files)\n",
        "\n",
        "            train_set_files_qty = int(len(files) * train_set_ratio)\n",
        "            validation_set_files_qty = int(len(files) * validation_set_ratio)\n",
        "\n",
        "            count = 1\n",
        "            for file_name in files:\n",
        "                if count <= train_set_files_qty:\n",
        "                    # move a given file to the train set\n",
        "                    shutil.move(my_data_dir + '/' + label + '/' + file_name,\n",
        "                                my_data_dir + '/train/' + label + '/' + file_name)\n",
        "\n",
        "                elif count <= (train_set_files_qty + validation_set_files_qty):\n",
        "                    # move a given file to the validation set\n",
        "                    shutil.move(my_data_dir + '/' + label + '/' + file_name,\n",
        "                                my_data_dir + '/validation/' + label + '/' + file_name)\n",
        "\n",
        "                else:\n",
        "                    # move given file to test set\n",
        "                    shutil.move(my_data_dir + '/' + label + '/' + file_name,\n",
        "                                my_data_dir + '/test/' + label + '/' + file_name)\n",
        "\n",
        "                count += 1\n",
        "\n",
        "            os.rmdir(my_data_dir + '/' + label)\n"
      ]
    },
    {
      "cell_type": "markdown",
      "metadata": {
        "id": "74_6OZMWgYIP"
      },
      "source": [
        "Conventionally,\n",
        "* The training set is divided into a 0.70 ratio of data.\n",
        "* The validation set is divided into a 0.10 ratio of data.\n",
        "* The test set is divided into a 0.20 ratio of data."
      ]
    },
    {
      "cell_type": "code",
      "execution_count": 16,
      "metadata": {
        "id": "24e-HbOdgYO1"
      },
      "outputs": [],
      "source": [
        "split_train_validation_test_images(my_data_dir=f\"inputs/cherry_dataset/cherry-leaves\",\n",
        "                                   train_set_ratio=0.7,\n",
        "                                   validation_set_ratio=0.1,\n",
        "                                   test_set_ratio=0.2\n",
        "                                   )\n"
      ]
    },
    {
      "cell_type": "markdown",
      "metadata": {
        "id": "ctcuyZrmhKYo"
      },
      "source": [
        "---"
      ]
    },
    {
      "cell_type": "markdown",
      "metadata": {
        "id": "3v3qKCNDvZjB"
      },
      "source": [
        "# Congratulations"
      ]
    },
    {
      "cell_type": "markdown",
      "metadata": {
        "id": "_tdAGw4Zwssu"
      },
      "source": [
        "---"
      ]
    }
  ],
  "metadata": {
    "accelerator": "GPU",
    "colab": {
      "name": "01 - DataCollection.ipynb",
      "provenance": []
    },
    "kernelspec": {
      "display_name": "Python 3.8.13 64-bit ('3.8.13')",
      "language": "python",
      "name": "python3"
    },
    "language_info": {
      "codemirror_mode": {
        "name": "ipython",
        "version": 3
      },
      "file_extension": ".py",
      "mimetype": "text/x-python",
      "name": "python",
      "nbconvert_exporter": "python",
      "pygments_lexer": "ipython3",
      "version": "3.8.18"
    },
    "vscode": {
      "interpreter": {
        "hash": "110cc1dee26208153f2972f08a2ad52b6a56238dc66d48e87fb757ef2996db56"
      }
    }
  },
  "nbformat": 4,
  "nbformat_minor": 0
}
